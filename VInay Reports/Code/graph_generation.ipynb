{
 "cells": [
  {
   "cell_type": "code",
   "execution_count": 1,
   "id": "4ef559ff",
   "metadata": {},
   "outputs": [],
   "source": [
    "import networkx as nx\n",
    "import csv \n",
    "import matplotlib.pyplot as plt\n",
    "import numpy as np\n",
    "import pandas as pf"
   ]
  },
  {
   "cell_type": "code",
   "execution_count": 2,
   "id": "72095fb9",
   "metadata": {},
   "outputs": [
    {
     "name": "stdout",
     "output_type": "stream",
     "text": [
      "Defaulting to user installation because normal site-packages is not writeable\n",
      "Requirement already satisfied: pandas in /home/cuckoo/.local/lib/python3.10/site-packages (2.0.3)\n",
      "Requirement already satisfied: python-dateutil>=2.8.2 in /usr/local/lib/python3.10/dist-packages (from pandas) (2.8.2)\n",
      "Requirement already satisfied: pytz>=2020.1 in /usr/lib/python3/dist-packages (from pandas) (2022.1)\n",
      "Requirement already satisfied: tzdata>=2022.1 in /home/cuckoo/.local/lib/python3.10/site-packages (from pandas) (2023.3)\n",
      "Requirement already satisfied: numpy>=1.21.0 in /home/cuckoo/.local/lib/python3.10/site-packages (from pandas) (1.24.3)\n",
      "Requirement already satisfied: six>=1.5 in /usr/lib/python3/dist-packages (from python-dateutil>=2.8.2->pandas) (1.16.0)\n",
      "\u001b[33mDEPRECATION: distro-info 1.1build1 has a non-standard version number. pip 23.3 will enforce this behaviour change. A possible replacement is to upgrade to a newer version of distro-info or contact the author to suggest that they release a version with a conforming version number. Discussion can be found at https://github.com/pypa/pip/issues/12063\u001b[0m\u001b[33m\n",
      "\u001b[0m\u001b[33mDEPRECATION: python-debian 0.1.43ubuntu1 has a non-standard version number. pip 23.3 will enforce this behaviour change. A possible replacement is to upgrade to a newer version of python-debian or contact the author to suggest that they release a version with a conforming version number. Discussion can be found at https://github.com/pypa/pip/issues/12063\u001b[0m\u001b[33m\n",
      "\u001b[0mNote: you may need to restart the kernel to use updated packages.\n"
     ]
    }
   ],
   "source": [
    "pip install pandas"
   ]
  },
  {
   "cell_type": "code",
   "execution_count": 3,
   "id": "45d85018",
   "metadata": {},
   "outputs": [],
   "source": [
    "df = pf.read_csv('/home/cuckoo/Documents/BenignCSV/280.csv')"
   ]
  },
  {
   "cell_type": "code",
   "execution_count": 4,
   "id": "0cdc0408",
   "metadata": {},
   "outputs": [],
   "source": [
    "G = nx.Graph()"
   ]
  },
  {
   "cell_type": "code",
   "execution_count": 5,
   "id": "80863226",
   "metadata": {},
   "outputs": [
    {
     "name": "stdout",
     "output_type": "stream",
     "text": [
      "   proc_pid  urls  file  name  type  path  ext_urls  info  program  positives  sign_name  families  description  sign_stacktrace  arguments  api  category  imported_dll_count  pe_res_name  filetype  pe_sec_name  entropy  dll  hosts  domains  dead_hosts  tcp  requests  dns_servers  mitm  udp  proc  process_path  beh_command_line  tree_process_name  tree_command_line  children  file_read  wmi_query  file_created  directory_enumerated  regkey_read  command_line  dll_loaded  regkey_written  regkey_opened  apistats  log  action  errors\n",
      "0         0     0     0     0     0     0         0     0        0          0          0         0            0                0          0    0         0                   1            5         5           11       11   12      0        0           0    0         0            0     0   17     1             1                 1                  1                  1         0          0          0             0                     0            0             0           0               0              0         0   17       0       0\n"
     ]
    }
   ],
   "source": [
    "print(df.to_string())"
   ]
  },
  {
   "cell_type": "code",
   "execution_count": 6,
   "id": "13194727",
   "metadata": {},
   "outputs": [
    {
     "data": {
      "text/plain": [
       "proc_pid                 0\n",
       "urls                     0\n",
       "file                     0\n",
       "name                     0\n",
       "type                     0\n",
       "path                     0\n",
       "ext_urls                 0\n",
       "info                     0\n",
       "program                  0\n",
       "positives                0\n",
       "sign_name                0\n",
       "families                 0\n",
       "description              0\n",
       "sign_stacktrace          0\n",
       "arguments                0\n",
       "api                      0\n",
       "category                 0\n",
       "imported_dll_count       1\n",
       "pe_res_name              5\n",
       "filetype                 5\n",
       "pe_sec_name             11\n",
       "entropy                 11\n",
       "dll                     12\n",
       "hosts                    0\n",
       "domains                  0\n",
       "dead_hosts               0\n",
       "tcp                      0\n",
       "requests                 0\n",
       "dns_servers              0\n",
       "mitm                     0\n",
       "udp                     17\n",
       "proc                     1\n",
       "process_path             1\n",
       "beh_command_line         1\n",
       "tree_process_name        1\n",
       "tree_command_line        1\n",
       "children                 0\n",
       "file_read                0\n",
       "wmi_query                0\n",
       "file_created             0\n",
       "directory_enumerated     0\n",
       "regkey_read              0\n",
       "command_line             0\n",
       "dll_loaded               0\n",
       "regkey_written           0\n",
       "regkey_opened            0\n",
       "apistats                 0\n",
       "log                     17\n",
       "action                   0\n",
       "errors                   0\n",
       "Name: 0, dtype: int64"
      ]
     },
     "execution_count": 6,
     "metadata": {},
     "output_type": "execute_result"
    }
   ],
   "source": [
    "df.loc[0]"
   ]
  },
  {
   "cell_type": "code",
   "execution_count": 7,
   "id": "974bbbd8",
   "metadata": {},
   "outputs": [
    {
     "data": {
      "text/plain": [
       "proc_pid                 0\n",
       "urls                     0\n",
       "file                     0\n",
       "name                     0\n",
       "type                     0\n",
       "path                     0\n",
       "ext_urls                 0\n",
       "info                     0\n",
       "program                  0\n",
       "positives                0\n",
       "sign_name                0\n",
       "families                 0\n",
       "description              0\n",
       "sign_stacktrace          0\n",
       "arguments                0\n",
       "api                      0\n",
       "category                 0\n",
       "imported_dll_count       1\n",
       "pe_res_name              5\n",
       "filetype                 5\n",
       "pe_sec_name             11\n",
       "entropy                 11\n",
       "dll                     12\n",
       "hosts                    0\n",
       "domains                  0\n",
       "dead_hosts               0\n",
       "tcp                      0\n",
       "requests                 0\n",
       "dns_servers              0\n",
       "mitm                     0\n",
       "udp                     17\n",
       "proc                     1\n",
       "process_path             1\n",
       "beh_command_line         1\n",
       "tree_process_name        1\n",
       "tree_command_line        1\n",
       "children                 0\n",
       "file_read                0\n",
       "wmi_query                0\n",
       "file_created             0\n",
       "directory_enumerated     0\n",
       "regkey_read              0\n",
       "command_line             0\n",
       "dll_loaded               0\n",
       "regkey_written           0\n",
       "regkey_opened            0\n",
       "apistats                 0\n",
       "log                     17\n",
       "action                   0\n",
       "errors                   0\n",
       "Name: 0, dtype: int64"
      ]
     },
     "execution_count": 7,
     "metadata": {},
     "output_type": "execute_result"
    }
   ],
   "source": [
    "df.loc[0]\n"
   ]
  },
  {
   "cell_type": "code",
   "execution_count": 8,
   "id": "7a875310",
   "metadata": {},
   "outputs": [
    {
     "ename": "SyntaxError",
     "evalue": "invalid syntax (1394413778.py, line 2)",
     "output_type": "error",
     "traceback": [
      "\u001b[0;36m  Cell \u001b[0;32mIn[8], line 2\u001b[0;36m\u001b[0m\n\u001b[0;31m    G.from_numpy_array(, weight = )\u001b[0m\n\u001b[0m                       ^\u001b[0m\n\u001b[0;31mSyntaxError\u001b[0m\u001b[0;31m:\u001b[0m invalid syntax\n"
     ]
    }
   ],
   "source": [
    "for i in range(50):\n",
    "    G.from_numpy_array(, weight = )\n",
    "\n",
    " #insert of adjacency matrix into numpy array tuple to generate graph "
   ]
  },
  {
   "cell_type": "code",
   "execution_count": null,
   "id": "c41d6f68",
   "metadata": {},
   "outputs": [],
   "source": [
    "nx.draw_spring(G, with_labels=True)\n",
    "plt.show "
   ]
  },
  {
   "cell_type": "code",
   "execution_count": null,
   "id": "e9a13b94",
   "metadata": {},
   "outputs": [],
   "source": []
  }
 ],
 "metadata": {
  "kernelspec": {
   "display_name": "Python 3 (ipykernel)",
   "language": "python",
   "name": "python3"
  },
  "language_info": {
   "codemirror_mode": {
    "name": "ipython",
    "version": 3
   },
   "file_extension": ".py",
   "mimetype": "text/x-python",
   "name": "python",
   "nbconvert_exporter": "python",
   "pygments_lexer": "ipython3",
   "version": "3.10.6"
  }
 },
 "nbformat": 4,
 "nbformat_minor": 5
}
