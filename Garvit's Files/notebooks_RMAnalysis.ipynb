{
  "metadata": {
    "language_info": {
      "codemirror_mode": {
        "name": "python",
        "version": 3
      },
      "file_extension": ".py",
      "mimetype": "text/x-python",
      "name": "python",
      "nbconvert_exporter": "python",
      "pygments_lexer": "ipython3",
      "version": "3.8"
    },
    "kernelspec": {
      "name": "python",
      "display_name": "Python (Pyodide)",
      "language": "python"
    }
  },
  "nbformat_minor": 4,
  "nbformat": 4,
  "cells": [
    {
      "cell_type": "code",
      "source": "import pandas as pd\nfrom sklearn.model_selection import train_test_split\nfrom sklearn.ensemble import RandomForestClassifier\nfrom sklearn.tree import DecisionTreeClassifier\nfrom sklearn.metrics import accuracy_score\nfrom sklearn.metrics import precision_score\nfrom sklearn.metrics import recall_score\nimport numpy as np",
      "metadata": {
        "trusted": true
      },
      "execution_count": 1,
      "outputs": []
    },
    {
      "cell_type": "code",
      "source": "dataset = pd.read_csv(\"CollectedDatasetRM.csv\")\ndataset",
      "metadata": {
        "trusted": true
      },
      "execution_count": 7,
      "outputs": [
        {
          "execution_count": 7,
          "output_type": "execute_result",
          "data": {
            "text/plain": "    Classification  proc_pid   urls    file  name  type  path  ext_urls  info  \\\n0                M       0.0    0.0     0.0   0.0   0.0   0.0       0.0   0.0   \n1                M       0.0    0.0     0.0   0.0   0.0   0.0       0.0   0.0   \n2                M       0.0    0.0     0.0   0.0   0.0   0.0       0.0   0.0   \n3                M       0.0    0.0     0.0   0.0   0.0   0.0       0.0   0.0   \n4                M       1.0  371.0     1.0   1.0   1.0   0.0       1.0   0.0   \n..             ...       ...    ...     ...   ...   ...   ...       ...   ...   \n110              R       3.0    3.0   502.0   9.0   3.0   3.0       3.0   0.0   \n111              R      28.0   28.0  3766.0   9.0  10.0  10.0      10.0   4.0   \n112              R       2.0    2.0   371.0   0.0   2.0   2.0       2.0   0.0   \n113              R       0.0    0.0     0.0   0.0   0.0   0.0       0.0   0.0   \n114              \u001a       NaN    NaN     NaN   NaN   NaN   NaN       NaN   NaN   \n\n     program  ...  directory_enumerated  regkey_read  command_line  \\\n0        0.0  ...                   0.0          0.0           0.0   \n1        0.0  ...                   0.0          0.0           0.0   \n2        0.0  ...                   0.0          0.0           0.0   \n3        0.0  ...                   0.0          0.0           0.0   \n4        0.0  ...                   0.0          0.0         103.0   \n..       ...  ...                   ...          ...           ...   \n110      0.0  ...                   1.0         26.0          11.0   \n111      4.0  ...                 552.0       2785.0         546.0   \n112      0.0  ...                   1.0          1.0           0.0   \n113      0.0  ...                3272.0         30.0         819.0   \n114      NaN  ...                   NaN          NaN           NaN   \n\n     dll_loaded  regkey_written  regkey_opened  apistats     log  action  \\\n0           0.0             0.0            0.0       0.0     0.0     0.0   \n1           0.0             0.0            0.0       0.0     0.0     0.0   \n2           0.0             0.0            0.0       0.0     0.0     0.0   \n3           0.0             0.0            0.0       0.0     0.0     0.0   \n4           0.0            53.0            0.0      75.0     0.0     0.0   \n..          ...             ...            ...       ...     ...     ...   \n110         0.0             1.0            0.0      46.0   197.0     0.0   \n111        21.0            16.0            1.0     805.0   781.0     1.0   \n112         0.0             1.0            0.0      32.0    24.0     0.0   \n113         0.0             1.0            0.0      96.0  4694.0     0.0   \n114         NaN             NaN            NaN       NaN     NaN     NaN   \n\n     errors  \n0      17.0  \n1      17.0  \n2      17.0  \n3      17.0  \n4      75.0  \n..      ...  \n110     0.0  \n111     0.0  \n112     0.0  \n113     0.0  \n114     NaN  \n\n[115 rows x 51 columns]",
            "text/html": "<div>\n<style scoped>\n    .dataframe tbody tr th:only-of-type {\n        vertical-align: middle;\n    }\n\n    .dataframe tbody tr th {\n        vertical-align: top;\n    }\n\n    .dataframe thead th {\n        text-align: right;\n    }\n</style>\n<table border=\"1\" class=\"dataframe\">\n  <thead>\n    <tr style=\"text-align: right;\">\n      <th></th>\n      <th>Classification</th>\n      <th>proc_pid</th>\n      <th>urls</th>\n      <th>file</th>\n      <th>name</th>\n      <th>type</th>\n      <th>path</th>\n      <th>ext_urls</th>\n      <th>info</th>\n      <th>program</th>\n      <th>...</th>\n      <th>directory_enumerated</th>\n      <th>regkey_read</th>\n      <th>command_line</th>\n      <th>dll_loaded</th>\n      <th>regkey_written</th>\n      <th>regkey_opened</th>\n      <th>apistats</th>\n      <th>log</th>\n      <th>action</th>\n      <th>errors</th>\n    </tr>\n  </thead>\n  <tbody>\n    <tr>\n      <th>0</th>\n      <td>M</td>\n      <td>0.0</td>\n      <td>0.0</td>\n      <td>0.0</td>\n      <td>0.0</td>\n      <td>0.0</td>\n      <td>0.0</td>\n      <td>0.0</td>\n      <td>0.0</td>\n      <td>0.0</td>\n      <td>...</td>\n      <td>0.0</td>\n      <td>0.0</td>\n      <td>0.0</td>\n      <td>0.0</td>\n      <td>0.0</td>\n      <td>0.0</td>\n      <td>0.0</td>\n      <td>0.0</td>\n      <td>0.0</td>\n      <td>17.0</td>\n    </tr>\n    <tr>\n      <th>1</th>\n      <td>M</td>\n      <td>0.0</td>\n      <td>0.0</td>\n      <td>0.0</td>\n      <td>0.0</td>\n      <td>0.0</td>\n      <td>0.0</td>\n      <td>0.0</td>\n      <td>0.0</td>\n      <td>0.0</td>\n      <td>...</td>\n      <td>0.0</td>\n      <td>0.0</td>\n      <td>0.0</td>\n      <td>0.0</td>\n      <td>0.0</td>\n      <td>0.0</td>\n      <td>0.0</td>\n      <td>0.0</td>\n      <td>0.0</td>\n      <td>17.0</td>\n    </tr>\n    <tr>\n      <th>2</th>\n      <td>M</td>\n      <td>0.0</td>\n      <td>0.0</td>\n      <td>0.0</td>\n      <td>0.0</td>\n      <td>0.0</td>\n      <td>0.0</td>\n      <td>0.0</td>\n      <td>0.0</td>\n      <td>0.0</td>\n      <td>...</td>\n      <td>0.0</td>\n      <td>0.0</td>\n      <td>0.0</td>\n      <td>0.0</td>\n      <td>0.0</td>\n      <td>0.0</td>\n      <td>0.0</td>\n      <td>0.0</td>\n      <td>0.0</td>\n      <td>17.0</td>\n    </tr>\n    <tr>\n      <th>3</th>\n      <td>M</td>\n      <td>0.0</td>\n      <td>0.0</td>\n      <td>0.0</td>\n      <td>0.0</td>\n      <td>0.0</td>\n      <td>0.0</td>\n      <td>0.0</td>\n      <td>0.0</td>\n      <td>0.0</td>\n      <td>...</td>\n      <td>0.0</td>\n      <td>0.0</td>\n      <td>0.0</td>\n      <td>0.0</td>\n      <td>0.0</td>\n      <td>0.0</td>\n      <td>0.0</td>\n      <td>0.0</td>\n      <td>0.0</td>\n      <td>17.0</td>\n    </tr>\n    <tr>\n      <th>4</th>\n      <td>M</td>\n      <td>1.0</td>\n      <td>371.0</td>\n      <td>1.0</td>\n      <td>1.0</td>\n      <td>1.0</td>\n      <td>0.0</td>\n      <td>1.0</td>\n      <td>0.0</td>\n      <td>0.0</td>\n      <td>...</td>\n      <td>0.0</td>\n      <td>0.0</td>\n      <td>103.0</td>\n      <td>0.0</td>\n      <td>53.0</td>\n      <td>0.0</td>\n      <td>75.0</td>\n      <td>0.0</td>\n      <td>0.0</td>\n      <td>75.0</td>\n    </tr>\n    <tr>\n      <th>...</th>\n      <td>...</td>\n      <td>...</td>\n      <td>...</td>\n      <td>...</td>\n      <td>...</td>\n      <td>...</td>\n      <td>...</td>\n      <td>...</td>\n      <td>...</td>\n      <td>...</td>\n      <td>...</td>\n      <td>...</td>\n      <td>...</td>\n      <td>...</td>\n      <td>...</td>\n      <td>...</td>\n      <td>...</td>\n      <td>...</td>\n      <td>...</td>\n      <td>...</td>\n      <td>...</td>\n    </tr>\n    <tr>\n      <th>110</th>\n      <td>R</td>\n      <td>3.0</td>\n      <td>3.0</td>\n      <td>502.0</td>\n      <td>9.0</td>\n      <td>3.0</td>\n      <td>3.0</td>\n      <td>3.0</td>\n      <td>0.0</td>\n      <td>0.0</td>\n      <td>...</td>\n      <td>1.0</td>\n      <td>26.0</td>\n      <td>11.0</td>\n      <td>0.0</td>\n      <td>1.0</td>\n      <td>0.0</td>\n      <td>46.0</td>\n      <td>197.0</td>\n      <td>0.0</td>\n      <td>0.0</td>\n    </tr>\n    <tr>\n      <th>111</th>\n      <td>R</td>\n      <td>28.0</td>\n      <td>28.0</td>\n      <td>3766.0</td>\n      <td>9.0</td>\n      <td>10.0</td>\n      <td>10.0</td>\n      <td>10.0</td>\n      <td>4.0</td>\n      <td>4.0</td>\n      <td>...</td>\n      <td>552.0</td>\n      <td>2785.0</td>\n      <td>546.0</td>\n      <td>21.0</td>\n      <td>16.0</td>\n      <td>1.0</td>\n      <td>805.0</td>\n      <td>781.0</td>\n      <td>1.0</td>\n      <td>0.0</td>\n    </tr>\n    <tr>\n      <th>112</th>\n      <td>R</td>\n      <td>2.0</td>\n      <td>2.0</td>\n      <td>371.0</td>\n      <td>0.0</td>\n      <td>2.0</td>\n      <td>2.0</td>\n      <td>2.0</td>\n      <td>0.0</td>\n      <td>0.0</td>\n      <td>...</td>\n      <td>1.0</td>\n      <td>1.0</td>\n      <td>0.0</td>\n      <td>0.0</td>\n      <td>1.0</td>\n      <td>0.0</td>\n      <td>32.0</td>\n      <td>24.0</td>\n      <td>0.0</td>\n      <td>0.0</td>\n    </tr>\n    <tr>\n      <th>113</th>\n      <td>R</td>\n      <td>0.0</td>\n      <td>0.0</td>\n      <td>0.0</td>\n      <td>0.0</td>\n      <td>0.0</td>\n      <td>0.0</td>\n      <td>0.0</td>\n      <td>0.0</td>\n      <td>0.0</td>\n      <td>...</td>\n      <td>3272.0</td>\n      <td>30.0</td>\n      <td>819.0</td>\n      <td>0.0</td>\n      <td>1.0</td>\n      <td>0.0</td>\n      <td>96.0</td>\n      <td>4694.0</td>\n      <td>0.0</td>\n      <td>0.0</td>\n    </tr>\n    <tr>\n      <th>114</th>\n      <td>\u001a</td>\n      <td>NaN</td>\n      <td>NaN</td>\n      <td>NaN</td>\n      <td>NaN</td>\n      <td>NaN</td>\n      <td>NaN</td>\n      <td>NaN</td>\n      <td>NaN</td>\n      <td>NaN</td>\n      <td>...</td>\n      <td>NaN</td>\n      <td>NaN</td>\n      <td>NaN</td>\n      <td>NaN</td>\n      <td>NaN</td>\n      <td>NaN</td>\n      <td>NaN</td>\n      <td>NaN</td>\n      <td>NaN</td>\n      <td>NaN</td>\n    </tr>\n  </tbody>\n</table>\n<p>115 rows × 51 columns</p>\n</div>"
          },
          "metadata": {}
        }
      ]
    },
    {
      "cell_type": "code",
      "source": "x = dataset.drop('Classification', axis = 1)\nb = dataset['Classification']\nx = x.drop(x.index[-1])\nb = b.drop(b.index[-1])",
      "metadata": {
        "trusted": true
      },
      "execution_count": 8,
      "outputs": []
    },
    {
      "cell_type": "code",
      "source": "#randomforestclassifier\nX_train, X_test, y_train, y_test = train_test_split(x, b, test_size=0.2, random_state=42)\n\nrfc = RandomForestClassifier(n_estimators=100, random_state=42)\nrfc.fit(X_train, y_train)\n\ny_pred = rfc.predict(X_test)\naccuracy = accuracy_score(y_test, y_pred)\nprint('Accuracy:', accuracy)\nprecisionR = precision_score(y_test, y_pred, pos_label = 'R')\nprint('Precision:', precisionR)",
      "metadata": {
        "trusted": true
      },
      "execution_count": 16,
      "outputs": [
        {
          "name": "stdout",
          "text": "Accuracy: 1.0\nPrecision: 1.0\n",
          "output_type": "stream"
        }
      ]
    },
    {
      "cell_type": "code",
      "source": "X_train, X_test, y_train, y_test = train_test_split(x, b, test_size=0.2, random_state=42)\n\ndtc = DecisionTreeClassifier(random_state=42)\ndtc.fit(X_train, y_train)\n\ny_pred = dtc.predict(X_test)\naccuracy = accuracy_score(y_test, y_pred)\nprint('Accuracy:', accuracy)",
      "metadata": {
        "trusted": true
      },
      "execution_count": 18,
      "outputs": [
        {
          "name": "stdout",
          "text": "Accuracy: 1.0\n",
          "output_type": "stream"
        }
      ]
    },
    {
      "cell_type": "code",
      "source": "",
      "metadata": {},
      "execution_count": null,
      "outputs": []
    }
  ]
}